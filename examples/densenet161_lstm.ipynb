{
 "cells": [
  {
   "cell_type": "code",
   "execution_count": 25,
   "metadata": {},
   "outputs": [
    {
     "name": "stdout",
     "output_type": "stream",
     "text": [
      "The autoreload extension is already loaded. To reload it, use:\n",
      "  %reload_ext autoreload\n"
     ]
    }
   ],
   "source": [
    "%load_ext autoreload\n",
    "%autoreload 2"
   ]
  },
  {
   "cell_type": "code",
   "execution_count": 26,
   "metadata": {},
   "outputs": [],
   "source": [
    "import os\n",
    "import sys\n",
    "sys.path.append(os.path.dirname(os.getcwd()))"
   ]
  },
  {
   "cell_type": "code",
   "execution_count": 27,
   "metadata": {},
   "outputs": [
    {
     "name": "stderr",
     "output_type": "stream",
     "text": [
      "[nltk_data] Downloading package punkt to /Users/olya-\n",
      "[nltk_data]     const/nltk_data...\n",
      "[nltk_data]   Package punkt is already up-to-date!\n"
     ]
    },
    {
     "data": {
      "text/plain": [
       "True"
      ]
     },
     "execution_count": 27,
     "metadata": {},
     "output_type": "execute_result"
    }
   ],
   "source": [
    "import nltk\n",
    "nltk.download('punkt')"
   ]
  },
  {
   "cell_type": "code",
   "execution_count": 28,
   "metadata": {},
   "outputs": [
    {
     "name": "stdout",
     "output_type": "stream",
     "text": [
      "cpu\n"
     ]
    }
   ],
   "source": [
    "import torch\n",
    "\n",
    "device = torch.device('cuda:0' if torch.cuda.is_available() else 'cpu')\n",
    "print(device)"
   ]
  },
  {
   "cell_type": "markdown",
   "metadata": {},
   "source": [
    "# Define train/validation/test Datasets & get the vocabulary:"
   ]
  },
  {
   "cell_type": "code",
   "execution_count": 29,
   "metadata": {},
   "outputs": [
    {
     "name": "stdout",
     "output_type": "stream",
     "text": [
      "The number of samples in:\n",
      "train: 30000; validation: 1000; test: 1000\n",
      "Vocabulary size: 7708; Max length of a sentence: 40;\n"
     ]
    }
   ],
   "source": [
    "import pickle\n",
    "\n",
    "from datasets.flickr8k import Flickr8kDataset\n",
    "\n",
    "\n",
    "DATASET_BASE_PATH = 'data/flickr8k/'\n",
    "VOCAB = 'vocab_set.pkl'\n",
    "\n",
    "train_set = Flickr8kDataset(\n",
    "    dataset_base_path=DATASET_BASE_PATH, dist='train',\n",
    "    device=device, return_type='tensor', load_img_to_memory=False)\n",
    "\n",
    "vocab_set = train_set.get_vocab()\n",
    "with open(VOCAB, 'wb') as f:\n",
    "    pickle.dump(vocab_set, f)\n",
    "    \n",
    "\n",
    "vocab, word2idx, idx2word, max_len = vocab_set\n",
    "vocab_size = len(vocab)\n",
    "\n",
    "val_set = Flickr8kDataset(\n",
    "    dataset_base_path=DATASET_BASE_PATH, dist='val', vocab_set=vocab_set,\n",
    "    device=device, return_type='corpus', load_img_to_memory=False)\n",
    "\n",
    "test_set = Flickr8kDataset(\n",
    "    dataset_base_path=DATASET_BASE_PATH, dist='test', vocab_set=vocab_set,\n",
    "    device=device, return_type='corpus', load_img_to_memory=False)\n",
    "\n",
    "train_eval_set = Flickr8kDataset(\n",
    "    dataset_base_path=DATASET_BASE_PATH, dist='train', vocab_set=vocab_set,\n",
    "    device=device, return_type='corpus', load_img_to_memory=False)\n",
    "\n",
    "\n",
    "print(\n",
    "    f\"The number of samples in:\\ntrain: {len(train_set)};\"\n",
    "    + f\" validation: {len(val_set)}; test: {len(test_set)}\\n\"\n",
    "    + f\"Vocabulary size: {vocab_size}; Max length of a sentence: {max_len};\"\n",
    ")"
   ]
  },
  {
   "cell_type": "markdown",
   "metadata": {},
   "source": [
    "# Define Data Transformations & Dataloaders:"
   ]
  },
  {
   "cell_type": "code",
   "execution_count": 30,
   "metadata": {},
   "outputs": [],
   "source": [
    "from torchvision import transforms\n",
    "from torch.utils.data import DataLoader\n",
    "\n",
    "\n",
    "BATCH_SIZE = 16\n",
    "\n",
    "\n",
    "train_transformations = transforms.Compose([\n",
    "    transforms.Resize(256),  # smaller edge of image resized to 256\n",
    "    transforms.RandomCrop(224),  # get 224x224 crop from random location\n",
    "    transforms.RandomHorizontalFlip(p=0.5),\n",
    "    transforms.ToTensor(),  # convert the PIL Image to a tensor\n",
    "    transforms.Normalize((0.485, 0.456, 0.406),  # normalize image for pre-trained model\n",
    "                         (0.229, 0.224, 0.225))\n",
    "])\n",
    "\n",
    "eval_transformations = transforms.Compose([\n",
    "    transforms.Resize(256),  # smaller edge of image resized to 256\n",
    "    transforms.CenterCrop(224),  # get 224x224 crop from random location\n",
    "    transforms.ToTensor(),  # convert the PIL Image to a tensor\n",
    "    transforms.Normalize((0.485, 0.456, 0.406),  # normalize image for pre-trained model\n",
    "                         (0.229, 0.224, 0.225))\n",
    "])\n",
    "\n",
    "train_set.transformations = train_transformations\n",
    "val_set.transformations = eval_transformations\n",
    "test_set.transformations = eval_transformations\n",
    "train_eval_set.transformations = eval_transformations\n",
    "\n",
    "\n",
    "eval_collate_fn = lambda batch: (torch.stack([x[0] for x in batch]), [x[1] for x in batch], [x[2] for x in batch])\n",
    "train_loader = DataLoader(train_set, batch_size=BATCH_SIZE, shuffle=True, sampler=None, pin_memory=False)\n",
    "val_loader = DataLoader(val_set, batch_size=BATCH_SIZE, shuffle=False, sampler=None, pin_memory=False,\n",
    "                        collate_fn=eval_collate_fn)\n",
    "test_loader = DataLoader(test_set, batch_size=BATCH_SIZE, shuffle=False, sampler=None, pin_memory=False,\n",
    "                         collate_fn=eval_collate_fn)\n",
    "train_eval_loader = DataLoader(train_eval_set, batch_size=BATCH_SIZE, shuffle=False, sampler=None, pin_memory=False,\n",
    "                               collate_fn=eval_collate_fn)"
   ]
  },
  {
   "cell_type": "markdown",
   "metadata": {},
   "source": [
    "# Define the model, loss, metric, optimizer, embedding_matrix:"
   ]
  },
  {
   "cell_type": "markdown",
   "metadata": {},
   "source": [
    "#### Note: you can use:\n",
    "    - densenet161_gru\n",
    "    - densenet161_lstm\n",
    "\n",
    "#### Probably you can add the other models as well and use the notebook, but check!"
   ]
  },
  {
   "cell_type": "code",
   "execution_count": 31,
   "metadata": {},
   "outputs": [],
   "source": [
    "from models.torch.densenet161_lstm import Captioner"
   ]
  },
  {
   "cell_type": "code",
   "execution_count": 32,
   "metadata": {},
   "outputs": [
    {
     "name": "stderr",
     "output_type": "stream",
     "text": [
      "100%|██████████| 7708/7708 [00:00<00:00, 508912.67it/s]"
     ]
    },
    {
     "name": "stdout",
     "output_type": "stream",
     "text": [
      "Embedding matrix shape: (7708, 50)\n"
     ]
    },
    {
     "name": "stderr",
     "output_type": "stream",
     "text": [
      "\n"
     ]
    }
   ],
   "source": [
    "from glove import embedding_matrix_creator\n",
    "from metrics import bleu_score_fn, accuracy_fn \n",
    "from utils_torch import words_from_tensors_fn\n",
    "\n",
    "EMBEDDING_DIM = 50\n",
    "EMBEDDING = f\"GLV{EMBEDDING_DIM}\"\n",
    "HIDDEN_SIZE = 256\n",
    "LR = 1e-2\n",
    "\n",
    "embedding_matrix = embedding_matrix_creator(embedding_dim=EMBEDDING_DIM, word2idx=word2idx)\n",
    "print(f\"Embedding matrix shape: {embedding_matrix.shape}\")"
   ]
  },
  {
   "cell_type": "code",
   "execution_count": 33,
   "metadata": {},
   "outputs": [],
   "source": [
    "final_model = Captioner(EMBEDDING_DIM, HIDDEN_SIZE, vocab_size, num_layers=2,\n",
    "                        embedding_matrix=embedding_matrix, train_embd=False).to(device)\n",
    "MODEL = final_model.name"
   ]
  },
  {
   "cell_type": "code",
   "execution_count": 34,
   "metadata": {},
   "outputs": [],
   "source": [
    "loss_fn = torch.nn.CrossEntropyLoss(ignore_index=train_set.pad_value).to(device)\n",
    "acc_fn = accuracy_fn(ignore_value=train_set.pad_value)\n",
    "sentence_bleu_score_fn = bleu_score_fn(4, 'sentence')\n",
    "corpus_bleu_score_fn = bleu_score_fn(4, 'corpus')\n",
    "tensor_to_word_fn = words_from_tensors_fn(idx2word=idx2word)\n",
    "\n",
    "params = (\n",
    "    list(final_model.decoder.parameters())\n",
    "    + list(final_model.encoder.embed.parameters())\n",
    "    + list(final_model.encoder.bn.parameters())\n",
    ")\n",
    "\n",
    "optimizer = torch.optim.Adam(params=params, lr=LR)"
   ]
  },
  {
   "cell_type": "markdown",
   "metadata": {},
   "source": [
    "# Main training cycle:\n",
    "\n",
    "**Note:** modify train_from_scratch=True if you want to get your model!"
   ]
  },
  {
   "cell_type": "code",
   "execution_count": null,
   "metadata": {},
   "outputs": [],
   "source": [
    "train_from_scratch = False\n",
    "\n",
    "from utils_torch import check_create_dir, get_picture_caption\n",
    "from train_torch import train_model, evaluate_model\n",
    "from PIL import Image\n",
    "\n",
    "if train_from_scratch:\n",
    "    check_create_dir(f'saved_models/{MODEL}')\n",
    "    MODEL_NAME = f'saved_models/{MODEL}/{MODEL}_b{BATCH_SIZE}_emd{EMBEDDING}'\n",
    "    NUM_EPOCHS = 100\n",
    "    print(MODEL_NAME)\n",
    "\n",
    "\n",
    "    train_loss_min = 100\n",
    "    val_bleu4_max = 0.0\n",
    "\n",
    "    for epoch in range(NUM_EPOCHS):\n",
    "        train_loss = train_model(\n",
    "            desc=f'Epoch {epoch + 1}/{NUM_EPOCHS}',\n",
    "            model=final_model,                                                                      \n",
    "            optimizer=optimizer,\n",
    "            loss_fn=loss_fn,                                          \n",
    "            train_loader=train_loader,\n",
    "            acc_fn=acc_fn\n",
    "        )\n",
    "\n",
    "        with torch.no_grad():\n",
    "            train_bleu = evaluate_model(\n",
    "                desc=f'\\tTrain Bleu Score: ',\n",
    "                model=final_model,\n",
    "                bleu_score_fn=corpus_bleu_score_fn,\n",
    "                tensor_to_word_fn=tensor_to_word_fn,\n",
    "                data_loader=train_eval_loader\n",
    "            )\n",
    "\n",
    "            val_bleu = evaluate_model(\n",
    "                desc=f'\\tValidation Bleu Score: ',\n",
    "                model=final_model,\n",
    "                bleu_score_fn=corpus_bleu_score_fn,\n",
    "                tensor_to_word_fn=tensor_to_word_fn,\n",
    "                data_loader=val_loader\n",
    "            )\n",
    "\n",
    "            print(f'Epoch {epoch + 1}/{NUM_EPOCHS}',\n",
    "                ''.join([f'train_bleu{i}: {train_bleu[i]:.4f} ' for i in (1, 4)]),\n",
    "                ''.join([f'val_bleu{i}: {val_bleu[i]:.4f} ' for i in (1, 4)]),\n",
    "                )\n",
    "            \n",
    "            state = {\n",
    "                'epoch': epoch + 1,\n",
    "                'state_dict': final_model.state_dict(),\n",
    "                'optimizer': optimizer.state_dict(),\n",
    "                'train_loss_latest': train_loss,\n",
    "                'val_bleu4_latest': val_bleu[4],\n",
    "                'train_loss_min': min(train_loss, train_loss_min),\n",
    "                'val_bleu4_max': max(val_bleu[4], val_bleu4_max),\n",
    "                'train_bleus': train_bleu,\n",
    "                'val_bleus': val_bleu,\n",
    "            }\n",
    "\n",
    "            torch.save(state, f'{MODEL_NAME}_latest.pt')\n",
    "\n",
    "            if train_loss < train_loss_min:\n",
    "                train_loss_min = train_loss\n",
    "                torch.save(state, f'{MODEL_NAME}''_best_train.pt')\n",
    "                \n",
    "            if val_bleu[4] > val_bleu4_max:\n",
    "                val_bleu4_max = val_bleu[4]\n",
    "                torch.save(state, f'{MODEL_NAME}''_best_val.pt')\n",
    "\n",
    "    torch.save(state, f'{MODEL_NAME}_ep{NUM_EPOCHS:02d}_weights.pt')"
   ]
  },
  {
   "cell_type": "markdown",
   "metadata": {},
   "source": [
    "# Get best checkpoint results:"
   ]
  },
  {
   "cell_type": "code",
   "execution_count": null,
   "metadata": {},
   "outputs": [],
   "source": [
    "#TODO"
   ]
  }
 ],
 "metadata": {
  "interpreter": {
   "hash": "aee8b7b246df8f9039afb4144a1f6fd8d2ca17a180786b69acc140d282b71a49"
  },
  "kernelspec": {
   "display_name": "Python 3.9.12 64-bit",
   "language": "python",
   "name": "python3"
  },
  "language_info": {
   "codemirror_mode": {
    "name": "ipython",
    "version": 3
   },
   "file_extension": ".py",
   "mimetype": "text/x-python",
   "name": "python",
   "nbconvert_exporter": "python",
   "pygments_lexer": "ipython3",
   "version": "3.9.12"
  },
  "orig_nbformat": 4
 },
 "nbformat": 4,
 "nbformat_minor": 2
}
